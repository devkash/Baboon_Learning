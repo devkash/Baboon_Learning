{
  "nbformat": 4,
  "nbformat_minor": 0,
  "metadata": {
    "kernelspec": {
      "display_name": "Python 3",
      "language": "python",
      "name": "python3"
    },
    "language_info": {
      "codemirror_mode": {
        "name": "ipython",
        "version": 3
      },
      "file_extension": ".py",
      "mimetype": "text/x-python",
      "name": "python",
      "nbconvert_exporter": "python",
      "pygments_lexer": "ipython3",
      "version": "3.6.5"
    },
    "colab": {
      "name": "Random Classifier.ipynb",
      "provenance": [],
      "collapsed_sections": []
    }
  },
  "cells": [
    {
      "cell_type": "code",
      "metadata": {
        "id": "WaX3k0Mj7pHK",
        "colab_type": "code",
        "colab": {}
      },
      "source": [
        "import random\n",
        "import pandas as pd\n",
        "import p_f1_recall as metric\n",
        "from sklearn.dummy import DummyClassifier\n",
        "import numpy as np\n",
        "from sklearn.metrics import precision_score, \\\n",
        "    recall_score, confusion_matrix, classification_report, \\\n",
        "    accuracy_score, f1_score"
      ],
      "execution_count": null,
      "outputs": []
    },
    {
      "cell_type": "code",
      "metadata": {
        "id": "wl-ykBHm7pHP",
        "colab_type": "code",
        "colab": {}
      },
      "source": [
        "data_test = pd.read_csv('final_testing.csv')"
      ],
      "execution_count": null,
      "outputs": []
    },
    {
      "cell_type": "code",
      "metadata": {
        "id": "tICH2rGy7pHT",
        "colab_type": "code",
        "colab": {}
      },
      "source": [
        "data_test = data_test.iloc[:,[3,4,5,7,8,9,10,12]]"
      ],
      "execution_count": null,
      "outputs": []
    },
    {
      "cell_type": "code",
      "metadata": {
        "id": "UNHw9NKN7pHX",
        "colab_type": "code",
        "colab": {}
      },
      "source": [
        "X = data_test.iloc[:,:data_test.shape[1]-2]\n",
        "y = data_test.iloc[:,data_test.shape[1]-2]"
      ],
      "execution_count": null,
      "outputs": []
    },
    {
      "cell_type": "code",
      "metadata": {
        "id": "92rI2ZYw7pHd",
        "colab_type": "code",
        "colab": {}
      },
      "source": [
        "maj_dummy_classifier = DummyClassifier(strategy=\"most_frequent\")\n",
        "maj_dummy_classifier.fit( X,y )\n",
        "y_pred = maj_dummy_classifier.predict(range(len(y)))"
      ],
      "execution_count": null,
      "outputs": []
    },
    {
      "cell_type": "code",
      "metadata": {
        "id": "YbcQqzf07pHg",
        "colab_type": "code",
        "colab": {},
        "outputId": "fd558509-de0d-4a16-a66f-f530530388a2"
      },
      "source": [
        "print(f1_score(y, y_pred, average='weighted'))\n",
        "print(accuracy_score(y, y_pred))\n",
        "print(recall_score(y, y_pred,average='weighted'))\n",
        "print(precision_score(y, y_pred, average='weighted'))"
      ],
      "execution_count": null,
      "outputs": [
        {
          "output_type": "stream",
          "text": [
            "0.24344849616418707\n",
            "0.41502091078066916\n",
            "0.41502091078066916\n",
            "0.17224235638521615\n"
          ],
          "name": "stdout"
        },
        {
          "output_type": "stream",
          "text": [
            "/Users/anaconda3/lib/python3.6/site-packages/sklearn/metrics/classification.py:1143: UndefinedMetricWarning: F-score is ill-defined and being set to 0.0 in labels with no predicted samples.\n",
            "  'precision', 'predicted', average, warn_for)\n",
            "/Users/anaconda3/lib/python3.6/site-packages/sklearn/metrics/classification.py:1143: UndefinedMetricWarning: Precision is ill-defined and being set to 0.0 in labels with no predicted samples.\n",
            "  'precision', 'predicted', average, warn_for)\n"
          ],
          "name": "stderr"
        }
      ]
    },
    {
      "cell_type": "code",
      "metadata": {
        "id": "PyUjdQGm7pHk",
        "colab_type": "code",
        "colab": {},
        "outputId": "55fcb6e6-052c-4382-fb0b-aafd65d7ff89"
      },
      "source": [
        "rand_dummy_classifier = DummyClassifier(strategy=\"stratified\")\n",
        "rand_dummy_classifier.fit( X,y )\n",
        "y_pred = new_dummy_classifier.predict(range(len(y)))\n",
        "print(f1_score(y, y_pred, average='weighted'))\n",
        "print(accuracy_score(y, y_pred))\n",
        "print(recall_score(y, y_pred,average='weighted'))\n",
        "print(precision_score(y, y_pred, average='weighted'))"
      ],
      "execution_count": null,
      "outputs": [
        {
          "output_type": "stream",
          "text": [
            "0.33677255452101873\n",
            "0.3367797397769517\n",
            "0.3367797397769517\n",
            "0.336766801869066\n"
          ],
          "name": "stdout"
        }
      ]
    },
    {
      "cell_type": "code",
      "metadata": {
        "id": "F9b5hCA87pHo",
        "colab_type": "code",
        "colab": {},
        "outputId": "053867e8-e24a-4c5a-eb68-ce12e153d994"
      },
      "source": [
        "set(y_pred)"
      ],
      "execution_count": null,
      "outputs": [
        {
          "output_type": "execute_result",
          "data": {
            "text/plain": [
              "{0, 1, 2, 3}"
            ]
          },
          "metadata": {
            "tags": []
          },
          "execution_count": 128
        }
      ]
    }
  ]
}
