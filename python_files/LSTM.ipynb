{
  "nbformat": 4,
  "nbformat_minor": 0,
  "metadata": {
    "kernelspec": {
      "display_name": "Python 3",
      "language": "python",
      "name": "python3"
    },
    "language_info": {
      "codemirror_mode": {
        "name": "ipython",
        "version": 3
      },
      "file_extension": ".py",
      "mimetype": "text/x-python",
      "name": "python",
      "nbconvert_exporter": "python",
      "pygments_lexer": "ipython3",
      "version": "3.6.5"
    },
    "colab": {
      "name": "LSTM with Pretraining.ipynb",
      "provenance": [],
      "collapsed_sections": []
    }
  },
  "cells": [
    {
      "cell_type": "code",
      "metadata": {
        "id": "c2uxHEOP6nAR",
        "colab_type": "code",
        "colab": {}
      },
      "source": [
        "import numpy as np\n",
        "import matplotlib.pyplot as plt\n",
        "import pandas as pd\n",
        "import math\n",
        "from sklearn.model_selection import train_test_split\n",
        "from scipy import stats\n",
        "from keras import backend as K\n",
        "from keras.callbacks import TensorBoard, EarlyStopping\n",
        "from sklearn.model_selection import StratifiedKFold\n",
        "from keras.layers import Dense\n",
        "from keras.layers import LSTM\n",
        "from keras.layers import Dropout\n",
        "from keras.layers import TimeDistributed\n",
        "from keras.layers import Activation\n",
        "from keras.layers import MaxPooling1D, UpSampling1D\n",
        "from keras.layers import MaxPooling2D\n",
        "from keras.layers import Flatten, Reshape\n",
        "from keras.layers import Input, Dense, Bidirectional\n",
        "from keras.layers.convolutional import Conv1D\n",
        "from keras.layers.convolutional import Conv2D\n",
        "from keras.layers import RepeatVector\n",
        "from keras.layers.pooling import GlobalAveragePooling1D, GlobalMaxPooling1D\n",
        "from keras.optimizers import SGD\n",
        "from keras.utils import to_categorical\n",
        "from keras.utils import plot_model\n",
        "from sklearn.preprocessing import MinMaxScaler\n",
        "from sklearn.metrics import mean_squared_error\n",
        "from keras.models import Model\n",
        "from keras.models import Sequential\n",
        "import numpy as np\n",
        "import os\n",
        "import matplotlib.pyplot as plt\n",
        "import random as rand\n",
        "import pandas as pd\n",
        "import tensorflow\n",
        "import keras\n",
        "import statistics as st\n",
        "from keras.models import Sequential\n",
        "from keras.layers import Dense, Dropout, Activation\n",
        "from keras.optimizers import SGD\n",
        "from keras.utils.vis_utils import plot_model\n",
        "from sklearn.preprocessing import LabelEncoder\n",
        "from collections import Counter"
      ],
      "execution_count": null,
      "outputs": []
    },
    {
      "cell_type": "code",
      "metadata": {
        "id": "qffEX6EQ6nAV",
        "colab_type": "code",
        "colab": {}
      },
      "source": [
        "os.chdir(\"/Users/carterloftus/Documents/ECS 289/\")"
      ],
      "execution_count": null,
      "outputs": []
    },
    {
      "cell_type": "code",
      "metadata": {
        "id": "jC5iM5XO6nAY",
        "colab_type": "code",
        "colab": {}
      },
      "source": [
        "import p_f1_recall as metric\n",
        "\n",
        "results = []"
      ],
      "execution_count": null,
      "outputs": []
    },
    {
      "cell_type": "code",
      "metadata": {
        "id": "_CLuhuJW6nAb",
        "colab_type": "code",
        "colab": {}
      },
      "source": [
        "### HYPERPARAMETERS ##\n",
        "batch_size, epochs, verbose = 200, 100, 1\n",
        "\n",
        "group_size = 48\n",
        "BiD = False\n",
        "LSTM_nodes = 50\n",
        "encoding_dim = 32\n"
      ],
      "execution_count": null,
      "outputs": []
    },
    {
      "cell_type": "code",
      "metadata": {
        "id": "_e6eO4b56nAe",
        "colab_type": "code",
        "colab": {}
      },
      "source": [
        "##### First proces unlabled data\n",
        "\n",
        "data_u = pd.read_csv('fullest_unlabeled_data.csv')\n",
        "\n",
        "### Remove unncessary columns\n",
        "data_u = data_u.iloc[:,[3,4,5,7,8,9,10]]\n",
        "\n",
        "### Standardize the features\n",
        "def standardize(data,col_nums_to_standardize):\n",
        "    for col in col_nums_to_standardize:\n",
        "        data.iloc[:,col] = (data.iloc[:,col] - np.mean(data.iloc[:,col]))/np.std(data.iloc[:,col])\n",
        "    return data\n",
        "\n",
        "data_u = standardize(data_u,col_nums_to_standardize = range(6))\n",
        "\n",
        "\n",
        "#### Now process the labeled data\n",
        "data_train = pd.read_csv('final_training.csv')\n",
        "data_test = pd.read_csv('final_testing.csv')\n",
        "\n",
        "### Remove unncessary columns\n",
        "data_train = data_train.iloc[:,[3,4,5,7,8,9,10,12]]  ## Add 13 if need to keep IDs ## Drop heading because of low mutual information\n",
        "data_test = data_test.iloc[:,[3,4,5,7,8,9,10,12]]\n",
        "\n",
        "### Standardize the features\n",
        "data_train = standardize(data_train,col_nums_to_standardize = range(6))\n",
        "data_test = standardize(data_test,col_nums_to_standardize = range(6))"
      ],
      "execution_count": null,
      "outputs": []
    },
    {
      "cell_type": "code",
      "metadata": {
        "id": "CbQ9G1d56nAh",
        "colab_type": "code",
        "colab": {}
      },
      "source": [
        "#Break features into groups of size n\n",
        "\n",
        "def break_into_samples(data,group_size):\n",
        "    l = []\n",
        "    sep_ts = set(data.loc[:,'ID'])\n",
        "    for ts in sep_ts:\n",
        "        sub_data  = np.array(data.loc[data.loc[:,'ID']== ts,:])\n",
        "        a = int(sub_data.shape[0]/group_size)\n",
        "        if a != 0:\n",
        "            sub_data = sub_data[:(a*group_size),:]\n",
        "            sub_data = [np.split(sub_data,a)]\n",
        "            l = l + sub_data\n",
        "    data = np.vstack(l)\n",
        "    data = data[:,:,:-1]\n",
        "    return data\n",
        "\n",
        "chunked_data_train = break_into_samples(data_train,group_size)\n",
        "chunked_data_test = break_into_samples(data_test,group_size)\n",
        "chunked_u_data = break_into_samples(data_u,group_size)"
      ],
      "execution_count": null,
      "outputs": []
    },
    {
      "cell_type": "code",
      "metadata": {
        "id": "lxqWjLRL6nAj",
        "colab_type": "code",
        "colab": {}
      },
      "source": [
        "def split_train_val(data,labeled = True,thresh = 0.8):\n",
        "    np.random.shuffle(data)\n",
        "    thresh1 = int(data.shape[0]*thresh)\n",
        "    training = data[:thresh1,:,:]\n",
        "    val = data[thresh1:,:,:]\n",
        "    return training, val\n",
        "\n",
        "\n",
        "global_num_classes = -1\n",
        "\n",
        "def split_feat_lab(data,many_to_one = True, prop = 0.65):\n",
        "    features = data[:,:,:data.shape[2]-1]\n",
        "    labels = data[:,:,data.shape[2]-1]\n",
        "    if many_to_one == True:\n",
        "        y_temp = np.zeros(labels.shape[0])\n",
        "        y_temp.fill(np.nan)\n",
        "        for i in range(labels.shape[0]):\n",
        "            row = labels[i,:]\n",
        "            trans_class = (Counter(row)).most_common(1)[0]\n",
        "            if trans_class[1] < group_size*prop : \n",
        "                 y_temp[i] = 4\n",
        "            else:\n",
        "                 y_temp[i] = st.mode(row)\n",
        "        labels = y_temp\n",
        "        global global_num_classes\n",
        "    if global_num_classes < 0:\n",
        "        global_num_classes = len(set(labels.flatten('C')))\n",
        "    num_classes = global_num_classes\n",
        "    labels = to_categorical(labels,num_classes)\n",
        "    return features,labels"
      ],
      "execution_count": null,
      "outputs": []
    },
    {
      "cell_type": "code",
      "metadata": {
        "id": "TXx1wiu66nAn",
        "colab_type": "code",
        "colab": {}
      },
      "source": [
        "chunked_data_train1, chunked_data_val = split_train_val(chunked_data_train)\n",
        "training, val = split_train_val(chunked_u_data)\n",
        "\n",
        "train_x,train_y = split_feat_lab(chunked_data_train1,many_to_one=False)\n",
        "val_x,val_y = split_feat_lab(chunked_data_val,many_to_one=False)\n",
        "test_x,test_y = split_feat_lab(chunked_data_test,many_to_one=False)"
      ],
      "execution_count": null,
      "outputs": []
    },
    {
      "cell_type": "code",
      "metadata": {
        "id": "TySb814T6nAq",
        "colab_type": "code",
        "colab": {}
      },
      "source": [
        "\n",
        "n_timesteps = training.shape[1]\n",
        "n_features = training.shape[2]\n",
        "\n",
        "def build_autoencoder(bi_directional = BiD):\n",
        "    raw_input = Input(shape=(n_timesteps,n_features))\n",
        "    if bi_directional == True:\n",
        "        layer_1 = BiDirectional(LSTM(LSTM_nodes, return_sequences = True))(raw_input)\n",
        "    else:\n",
        "        layer_1 = LSTM(LSTM_nodes, return_sequences = True)(raw_input)\n",
        "    layer_2 = Dropout(0.5)(layer_1)\n",
        "    layer_3 = TimeDistributed(Dense(encoding_dim*2, activation='relu'))(layer_2)\n",
        "    encoded = TimeDistributed(Dense(encoding_dim, activation='relu'))(layer_3)\n",
        "    decoding = TimeDistributed(Dense(encoding_dim*2, activation='relu'))(encoded)\n",
        "    decoding_2 = Dropout(0.5)(decoding)\n",
        "    if bi_directional == True:\n",
        "        decoding_3 = BiDirectional(LSTM(LSTM_nodes, return_sequences = True))(decoding_2)\n",
        "    else:\n",
        "        decoding_3 = LSTM(LSTM_nodes, return_sequences = True)(decoding_2)\n",
        "    output = TimeDistributed(Dense(n_features))(decoding_2)\n",
        "    encoder = Model(raw_input,encoded)\n",
        "    autoencoder = Model(raw_input,output)\n",
        "    return autoencoder, encoder\n",
        "    \n",
        "autoencoder, encoder = build_autoencoder()\n",
        "\n",
        "init_weights = encoder.get_weights()\n",
        "\n",
        "def autoencoder_train(autoencoder):\n",
        "    autoencoder.compile(optimizer='adam', loss='mse')\n",
        "    autoencoder.fit(training, training,\n",
        "                epochs=epochs,\n",
        "                batch_size=batch_size,\n",
        "                shuffle=True,\n",
        "                validation_data=(val, val),\n",
        "                callbacks=[EarlyStopping(monitor='val_loss', min_delta=0, patience=3, verbose=0, mode='auto', baseline=None, restore_best_weights=True)])\n",
        "    loss = autoencoder.evaluate(val, val, batch_size=batch_size, verbose=verbose)\n",
        "    return loss\n",
        "\n",
        "autoencoder_loss = autoencoder_train(autoencoder)\n",
        "\n",
        "trained_weights = encoder.get_weights()"
      ],
      "execution_count": null,
      "outputs": []
    },
    {
      "cell_type": "code",
      "metadata": {
        "id": "iAdGOIV46nAs",
        "colab_type": "code",
        "colab": {}
      },
      "source": [
        "encoder.set_weights(trained_weights)\n",
        "new_layer = TimeDistributed(Dense(global_num_classes, activation='softmax'))(encoder.output)\n",
        "pre_trained = Model(encoder.input,new_layer)\n",
        "pre_trained.summary()\n",
        "\n",
        "def train_model(model):\n",
        "    model.compile(loss='categorical_crossentropy', optimizer='adam', metrics=['accuracy',metric.recall,metric.precision,metric.f1])\n",
        "    model.fit(train_x,train_y,epochs=epochs,batch_size=batch_size,verbose=verbose,validation_data=(val_x,val_y),\n",
        "             callbacks=[EarlyStopping(monitor='val_loss', min_delta=0, patience=3, verbose=0, mode='auto', baseline=None, restore_best_weights=True)])\n",
        "    loss,accuracy,recall_score,precision_score,f_score = model.evaluate(val_x, val_y, batch_size=batch_size, verbose=verbose)\n",
        "    return loss,accuracy,recall_score,precision_score,f_score\n",
        "\n",
        "m1_loss,m1_accuracy,m1_recall_score,m1_precision_score,m1_f_score = train_model(pre_trained)"
      ],
      "execution_count": null,
      "outputs": []
    },
    {
      "cell_type": "code",
      "metadata": {
        "id": "fLdVaMn56nAv",
        "colab_type": "code",
        "colab": {}
      },
      "source": [
        "encoder.set_weights(init_weights)\n",
        "new_layer = TimeDistributed(Dense(global_num_classes, activation='softmax'))(encoder.output)\n",
        "no_pre_training = Model(encoder.input,new_layer)\n",
        "no_pre_training.summary()\n",
        "\n",
        "m2_loss,m2_accuracy,m2_recall_score,m2_precision_score,m2_f_score = train_model(no_pre_training)"
      ],
      "execution_count": null,
      "outputs": []
    },
    {
      "cell_type": "code",
      "metadata": {
        "id": "s_WMmBHT6nAy",
        "colab_type": "code",
        "colab": {}
      },
      "source": [
        "results.append([autoencoder_loss,m1_f_score,m2_f_score])\n",
        "print(np.mean(results,axis=0))\n",
        "print(np.sd(results,axis=0))"
      ],
      "execution_count": null,
      "outputs": []
    },
    {
      "cell_type": "code",
      "metadata": {
        "id": "Q6IfQalS6nA5",
        "colab_type": "code",
        "colab": {}
      },
      "source": [
        ""
      ],
      "execution_count": null,
      "outputs": []
    }
  ]
}